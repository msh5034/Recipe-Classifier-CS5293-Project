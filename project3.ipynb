{
 "cells": [
  {
   "cell_type": "markdown",
   "metadata": {},
   "source": [
    "# Project 3 CS5293 SP20\n",
    "## Matthew Huson\n",
    "\n",
    "#### Note: as this was done for a class, the flow (define function, test function, with acutal execution at the end) is to meet the requirements of the prompt"
   ]
  },
  {
   "cell_type": "markdown",
   "metadata": {},
   "source": [
    "## Libraries"
   ]
  },
  {
   "cell_type": "code",
   "execution_count": 2,
   "metadata": {},
   "outputs": [
    {
     "ename": "ModuleNotFoundError",
     "evalue": "No module named 'seaborn'",
     "output_type": "error",
     "traceback": [
      "\u001b[1;31m---------------------------------------------------------------------------\u001b[0m",
      "\u001b[1;31mModuleNotFoundError\u001b[0m                       Traceback (most recent call last)",
      "\u001b[1;32m<ipython-input-2-bfdedaed71dd>\u001b[0m in \u001b[0;36m<module>\u001b[1;34m\u001b[0m\n\u001b[0;32m      3\u001b[0m \u001b[1;32mfrom\u001b[0m \u001b[0msklearn\u001b[0m\u001b[1;33m.\u001b[0m\u001b[0mneighbors\u001b[0m \u001b[1;32mimport\u001b[0m \u001b[0mKNeighborsClassifier\u001b[0m\u001b[1;33m\u001b[0m\u001b[1;33m\u001b[0m\u001b[0m\n\u001b[0;32m      4\u001b[0m \u001b[1;32mfrom\u001b[0m \u001b[0msklearn\u001b[0m\u001b[1;33m.\u001b[0m\u001b[0mfeature_extraction\u001b[0m\u001b[1;33m.\u001b[0m\u001b[0mtext\u001b[0m \u001b[1;32mimport\u001b[0m \u001b[0mTfidfVectorizer\u001b[0m\u001b[1;33m\u001b[0m\u001b[1;33m\u001b[0m\u001b[0m\n\u001b[1;32m----> 5\u001b[1;33m \u001b[1;32mimport\u001b[0m \u001b[0mseaborn\u001b[0m\u001b[1;33m\u001b[0m\u001b[1;33m\u001b[0m\u001b[0m\n\u001b[0m",
      "\u001b[1;31mModuleNotFoundError\u001b[0m: No module named 'seaborn'"
     ]
    }
   ],
   "source": [
    "import pandas as pd\n",
    "import numpy as np\n",
    "from sklearn.neighbors import KNeighborsClassifier\n",
    "from sklearn.feature_extraction.text import TfidfVectorizer\n",
    "import seaborn"
   ]
  },
  {
   "cell_type": "markdown",
   "metadata": {},
   "source": [
    "## Functions"
   ]
  },
  {
   "cell_type": "markdown",
   "metadata": {},
   "source": [
    "### Read In Json"
   ]
  },
  {
   "cell_type": "code",
   "execution_count": 3,
   "metadata": {},
   "outputs": [],
   "source": [
    "def read_in(filename='yummly.json'):\n",
    "    '''\n",
    "    takes json filename as argument\n",
    "    returns dataframe of recipe ids, cuisines and ingredients\n",
    "    '''\n",
    "    \n",
    "    df = pd.read_json(filename) #read_json turns all of the json dictionaries into a dataframe\n",
    "    \n",
    "    return df"
   ]
  },
  {
   "cell_type": "markdown",
   "metadata": {},
   "source": [
    "#### TEST"
   ]
  },
  {
   "cell_type": "code",
   "execution_count": 4,
   "metadata": {},
   "outputs": [
    {
     "name": "stdout",
     "output_type": "stream",
     "text": [
      "(39774, 3)\n"
     ]
    },
    {
     "data": {
      "text/html": [
       "<div>\n",
       "<style scoped>\n",
       "    .dataframe tbody tr th:only-of-type {\n",
       "        vertical-align: middle;\n",
       "    }\n",
       "\n",
       "    .dataframe tbody tr th {\n",
       "        vertical-align: top;\n",
       "    }\n",
       "\n",
       "    .dataframe thead th {\n",
       "        text-align: right;\n",
       "    }\n",
       "</style>\n",
       "<table border=\"1\" class=\"dataframe\">\n",
       "  <thead>\n",
       "    <tr style=\"text-align: right;\">\n",
       "      <th></th>\n",
       "      <th>id</th>\n",
       "      <th>cuisine</th>\n",
       "      <th>ingredients</th>\n",
       "    </tr>\n",
       "  </thead>\n",
       "  <tbody>\n",
       "    <tr>\n",
       "      <th>0</th>\n",
       "      <td>10259</td>\n",
       "      <td>greek</td>\n",
       "      <td>[romaine lettuce, black olives, grape tomatoes...</td>\n",
       "    </tr>\n",
       "    <tr>\n",
       "      <th>1</th>\n",
       "      <td>25693</td>\n",
       "      <td>southern_us</td>\n",
       "      <td>[plain flour, ground pepper, salt, tomatoes, g...</td>\n",
       "    </tr>\n",
       "    <tr>\n",
       "      <th>2</th>\n",
       "      <td>20130</td>\n",
       "      <td>filipino</td>\n",
       "      <td>[eggs, pepper, salt, mayonaise, cooking oil, g...</td>\n",
       "    </tr>\n",
       "    <tr>\n",
       "      <th>3</th>\n",
       "      <td>22213</td>\n",
       "      <td>indian</td>\n",
       "      <td>[water, vegetable oil, wheat, salt]</td>\n",
       "    </tr>\n",
       "    <tr>\n",
       "      <th>4</th>\n",
       "      <td>13162</td>\n",
       "      <td>indian</td>\n",
       "      <td>[black pepper, shallots, cornflour, cayenne pe...</td>\n",
       "    </tr>\n",
       "  </tbody>\n",
       "</table>\n",
       "</div>"
      ],
      "text/plain": [
       "      id      cuisine                                        ingredients\n",
       "0  10259        greek  [romaine lettuce, black olives, grape tomatoes...\n",
       "1  25693  southern_us  [plain flour, ground pepper, salt, tomatoes, g...\n",
       "2  20130     filipino  [eggs, pepper, salt, mayonaise, cooking oil, g...\n",
       "3  22213       indian                [water, vegetable oil, wheat, salt]\n",
       "4  13162       indian  [black pepper, shallots, cornflour, cayenne pe..."
      ]
     },
     "execution_count": 4,
     "metadata": {},
     "output_type": "execute_result"
    }
   ],
   "source": [
    "test_df = read_in() #get test dataframe\n",
    "\n",
    "print(test_df.shape) #dataframe should have 3 columns and 39774 rows\n",
    "\n",
    "test_df.head() #check contents of dataframe"
   ]
  },
  {
   "cell_type": "markdown",
   "metadata": {},
   "source": [
    "### De-Tokenize Ingredients"
   ]
  },
  {
   "cell_type": "code",
   "execution_count": 5,
   "metadata": {},
   "outputs": [],
   "source": [
    "def de_tokenize(df):\n",
    "    '''\n",
    "    takes a dataframe as argument\n",
    "    returns same dataframe with additional column for joined ingredient lists\n",
    "    '''\n",
    "    \n",
    "    l = [' '.join(recipe) for recipe in df['ingredients']] #get list of joined ingredient lists\n",
    "    \n",
    "    df['ing_join'] = l #create new column in dataframe to hold them\n",
    "    \n",
    "    return df"
   ]
  },
  {
   "cell_type": "markdown",
   "metadata": {},
   "source": [
    "#### TEST"
   ]
  },
  {
   "cell_type": "code",
   "execution_count": 6,
   "metadata": {},
   "outputs": [
    {
     "name": "stdout",
     "output_type": "stream",
     "text": [
      "(39774, 4)\n"
     ]
    },
    {
     "data": {
      "text/html": [
       "<div>\n",
       "<style scoped>\n",
       "    .dataframe tbody tr th:only-of-type {\n",
       "        vertical-align: middle;\n",
       "    }\n",
       "\n",
       "    .dataframe tbody tr th {\n",
       "        vertical-align: top;\n",
       "    }\n",
       "\n",
       "    .dataframe thead th {\n",
       "        text-align: right;\n",
       "    }\n",
       "</style>\n",
       "<table border=\"1\" class=\"dataframe\">\n",
       "  <thead>\n",
       "    <tr style=\"text-align: right;\">\n",
       "      <th></th>\n",
       "      <th>id</th>\n",
       "      <th>cuisine</th>\n",
       "      <th>ingredients</th>\n",
       "      <th>ing_join</th>\n",
       "    </tr>\n",
       "  </thead>\n",
       "  <tbody>\n",
       "    <tr>\n",
       "      <th>0</th>\n",
       "      <td>10259</td>\n",
       "      <td>greek</td>\n",
       "      <td>[romaine lettuce, black olives, grape tomatoes...</td>\n",
       "      <td>romaine lettuce black olives grape tomatoes ga...</td>\n",
       "    </tr>\n",
       "    <tr>\n",
       "      <th>1</th>\n",
       "      <td>25693</td>\n",
       "      <td>southern_us</td>\n",
       "      <td>[plain flour, ground pepper, salt, tomatoes, g...</td>\n",
       "      <td>plain flour ground pepper salt tomatoes ground...</td>\n",
       "    </tr>\n",
       "    <tr>\n",
       "      <th>2</th>\n",
       "      <td>20130</td>\n",
       "      <td>filipino</td>\n",
       "      <td>[eggs, pepper, salt, mayonaise, cooking oil, g...</td>\n",
       "      <td>eggs pepper salt mayonaise cooking oil green c...</td>\n",
       "    </tr>\n",
       "    <tr>\n",
       "      <th>3</th>\n",
       "      <td>22213</td>\n",
       "      <td>indian</td>\n",
       "      <td>[water, vegetable oil, wheat, salt]</td>\n",
       "      <td>water vegetable oil wheat salt</td>\n",
       "    </tr>\n",
       "    <tr>\n",
       "      <th>4</th>\n",
       "      <td>13162</td>\n",
       "      <td>indian</td>\n",
       "      <td>[black pepper, shallots, cornflour, cayenne pe...</td>\n",
       "      <td>black pepper shallots cornflour cayenne pepper...</td>\n",
       "    </tr>\n",
       "  </tbody>\n",
       "</table>\n",
       "</div>"
      ],
      "text/plain": [
       "      id      cuisine                                        ingredients  \\\n",
       "0  10259        greek  [romaine lettuce, black olives, grape tomatoes...   \n",
       "1  25693  southern_us  [plain flour, ground pepper, salt, tomatoes, g...   \n",
       "2  20130     filipino  [eggs, pepper, salt, mayonaise, cooking oil, g...   \n",
       "3  22213       indian                [water, vegetable oil, wheat, salt]   \n",
       "4  13162       indian  [black pepper, shallots, cornflour, cayenne pe...   \n",
       "\n",
       "                                            ing_join  \n",
       "0  romaine lettuce black olives grape tomatoes ga...  \n",
       "1  plain flour ground pepper salt tomatoes ground...  \n",
       "2  eggs pepper salt mayonaise cooking oil green c...  \n",
       "3                     water vegetable oil wheat salt  \n",
       "4  black pepper shallots cornflour cayenne pepper...  "
      ]
     },
     "execution_count": 6,
     "metadata": {},
     "output_type": "execute_result"
    }
   ],
   "source": [
    "test_df = de_tokenize(test_df) #get de-tokenized dataframe\n",
    "\n",
    "print(test_df.shape) #data frame should have 4 columns and 39774 rows\n",
    "\n",
    "test_df.head() #check that new column is a string, not a list"
   ]
  },
  {
   "cell_type": "markdown",
   "metadata": {},
   "source": [
    "### Vectorize"
   ]
  },
  {
   "cell_type": "code",
   "execution_count": 7,
   "metadata": {},
   "outputs": [],
   "source": [
    "def vectorize(df, train=True):\n",
    "    \n",
    "    '''\n",
    "    accepts a dataframe and train flag as arguments\n",
    "    returns either a matrix of vectorized ingredients and array of cuisines, or a vector of a single ingredient list\n",
    "    '''\n",
    "    \n",
    "    if train: #if train == True, it needs the matrix of vectors and the cuisine labels\n",
    "        vectorizer = TfidfVectorizer(min_df=2) #vectorize; setting min_df to 2 eliminates typos and one-offs\n",
    "        X = vectorizer.fit_transform(df['ing_join']) #fit_transform the joined ingredients lists\n",
    "        y = np.array(df['cuisine']) #get array of cuisine labels\n",
    "        \n",
    "        return X,y #return matrix and labels\n",
    "    \n",
    "    else: #otherwise, it just needs the last line of the updated dataframe\n",
    "        vectorizer = TfidfVectorizer(min_df=2) #vectorize\n",
    "        X = vectorizer.fit_transform(df['ing_join'])[-1] #only get last row; will be the user input\n",
    "        \n",
    "        return X #return single row vector\n",
    "    \n",
    "    "
   ]
  },
  {
   "cell_type": "markdown",
   "metadata": {},
   "source": [
    "#### TEST"
   ]
  },
  {
   "cell_type": "code",
   "execution_count": 8,
   "metadata": {},
   "outputs": [
    {
     "name": "stdout",
     "output_type": "stream",
     "text": [
      "(39774, 2459)\n",
      "(39774,)\n",
      "(1, 2459)\n"
     ]
    }
   ],
   "source": [
    "test_X,test_y = vectorize(test_df) #get matrix and array\n",
    "\n",
    "print(test_X.shape) #matrix should have 39774 rows and some number of columns\n",
    "print(test_y.shape) #array should have 39774 rows and no columns\n",
    "\n",
    "test_X_vec = vectorize(test_df, False) #get vector\n",
    "\n",
    "print(test_X_vec.shape) #vector should have 1 row and the same number of columns as matrix"
   ]
  },
  {
   "cell_type": "markdown",
   "metadata": {},
   "source": [
    "### Train Classifier"
   ]
  },
  {
   "cell_type": "code",
   "execution_count": 9,
   "metadata": {},
   "outputs": [],
   "source": [
    "def train_classifier(X,y):\n",
    "    '''\n",
    "    takes vector matrix and array of cuisine labels as arguments\n",
    "    fits kNN classifier to the data and returns the classifier\n",
    "    '''\n",
    "    \n",
    "    classifier = KNeighborsClassifier(n_neighbors=11) #initialize classifier instance\n",
    "    classifier.fit(X,y) #fit to data\n",
    "    \n",
    "    return classifier #return classifier"
   ]
  },
  {
   "cell_type": "markdown",
   "metadata": {},
   "source": [
    "#### TEST"
   ]
  },
  {
   "cell_type": "code",
   "execution_count": 10,
   "metadata": {},
   "outputs": [
    {
     "name": "stdout",
     "output_type": "stream",
     "text": [
      "KNeighborsClassifier(algorithm='auto', leaf_size=30, metric='minkowski',\n",
      "                     metric_params=None, n_jobs=None, n_neighbors=11, p=2,\n",
      "                     weights='uniform')\n"
     ]
    }
   ],
   "source": [
    "test_classifier = train_classifier(test_X,test_y) #get classifier\n",
    "\n",
    "print(test_classifier) #check that classifier is KNeighborsClassifier with n_neighbors=11"
   ]
  },
  {
   "cell_type": "markdown",
   "metadata": {},
   "source": [
    "### Parse User Input"
   ]
  },
  {
   "cell_type": "code",
   "execution_count": 11,
   "metadata": {},
   "outputs": [],
   "source": [
    "def parse_user_input(input_ingredients, df):\n",
    "    \n",
    "    '''\n",
    "    takes user-input list of ingredients and the original dataframe as arguments\n",
    "    returns a dataframe with the user ingredients as the last row\n",
    "    '''\n",
    "    \n",
    "    temp_df = df.copy() #create copy of original dataframe\n",
    "    joined_input = ' '.join(input_ingredients).strip() #join the list of ingredients into a string\n",
    "    \n",
    "    new_row = [None,None,input_ingredients, joined_input] #create new row to add to df\n",
    "    temp_df.loc[len(temp_df['id'])] = new_row #add row to bottom of df\n",
    "\n",
    "    \n",
    "    return temp_df #return new df"
   ]
  },
  {
   "cell_type": "markdown",
   "metadata": {},
   "source": [
    "#### TEST"
   ]
  },
  {
   "cell_type": "code",
   "execution_count": 12,
   "metadata": {},
   "outputs": [
    {
     "data": {
      "text/html": [
       "<div>\n",
       "<style scoped>\n",
       "    .dataframe tbody tr th:only-of-type {\n",
       "        vertical-align: middle;\n",
       "    }\n",
       "\n",
       "    .dataframe tbody tr th {\n",
       "        vertical-align: top;\n",
       "    }\n",
       "\n",
       "    .dataframe thead th {\n",
       "        text-align: right;\n",
       "    }\n",
       "</style>\n",
       "<table border=\"1\" class=\"dataframe\">\n",
       "  <thead>\n",
       "    <tr style=\"text-align: right;\">\n",
       "      <th></th>\n",
       "      <th>id</th>\n",
       "      <th>cuisine</th>\n",
       "      <th>ingredients</th>\n",
       "      <th>ing_join</th>\n",
       "    </tr>\n",
       "  </thead>\n",
       "  <tbody>\n",
       "    <tr>\n",
       "      <th>39770</th>\n",
       "      <td>11462</td>\n",
       "      <td>italian</td>\n",
       "      <td>[KRAFT Zesty Italian Dressing, purple onion, b...</td>\n",
       "      <td>KRAFT Zesty Italian Dressing purple onion broc...</td>\n",
       "    </tr>\n",
       "    <tr>\n",
       "      <th>39771</th>\n",
       "      <td>2238</td>\n",
       "      <td>irish</td>\n",
       "      <td>[eggs, citrus fruit, raisins, sourdough starte...</td>\n",
       "      <td>eggs citrus fruit raisins sourdough starter fl...</td>\n",
       "    </tr>\n",
       "    <tr>\n",
       "      <th>39772</th>\n",
       "      <td>41882</td>\n",
       "      <td>chinese</td>\n",
       "      <td>[boneless chicken skinless thigh, minced garli...</td>\n",
       "      <td>boneless chicken skinless thigh minced garlic ...</td>\n",
       "    </tr>\n",
       "    <tr>\n",
       "      <th>39773</th>\n",
       "      <td>2362</td>\n",
       "      <td>mexican</td>\n",
       "      <td>[green chile, jalapeno chilies, onions, ground...</td>\n",
       "      <td>green chile jalapeno chilies onions ground bla...</td>\n",
       "    </tr>\n",
       "    <tr>\n",
       "      <th>39774</th>\n",
       "      <td>None</td>\n",
       "      <td>None</td>\n",
       "      <td>[tomatoes, garlic, spaghetti]</td>\n",
       "      <td>tomatoes garlic spaghetti</td>\n",
       "    </tr>\n",
       "  </tbody>\n",
       "</table>\n",
       "</div>"
      ],
      "text/plain": [
       "          id  cuisine                                        ingredients  \\\n",
       "39770  11462  italian  [KRAFT Zesty Italian Dressing, purple onion, b...   \n",
       "39771   2238    irish  [eggs, citrus fruit, raisins, sourdough starte...   \n",
       "39772  41882  chinese  [boneless chicken skinless thigh, minced garli...   \n",
       "39773   2362  mexican  [green chile, jalapeno chilies, onions, ground...   \n",
       "39774   None     None                      [tomatoes, garlic, spaghetti]   \n",
       "\n",
       "                                                ing_join  \n",
       "39770  KRAFT Zesty Italian Dressing purple onion broc...  \n",
       "39771  eggs citrus fruit raisins sourdough starter fl...  \n",
       "39772  boneless chicken skinless thigh minced garlic ...  \n",
       "39773  green chile jalapeno chilies onions ground bla...  \n",
       "39774                          tomatoes garlic spaghetti  "
      ]
     },
     "execution_count": 12,
     "metadata": {},
     "output_type": "execute_result"
    }
   ],
   "source": [
    "test_input = ['tomatoes', 'garlic', 'spaghetti'] #list of user input ingredients\n",
    "test_t_df = parse_user_input(test_input, test_df) #get new dataframe\n",
    "\n",
    "test_t_df.tail() #check that ingredients list has been added to the end"
   ]
  },
  {
   "cell_type": "markdown",
   "metadata": {},
   "source": [
    "### Classify Cuisine for Ingredients"
   ]
  },
  {
   "cell_type": "code",
   "execution_count": 26,
   "metadata": {},
   "outputs": [],
   "source": [
    "def classify_ingredients(classifier,X):\n",
    "    \n",
    "    '''\n",
    "    takes trained classifier and user input vector as arguments\n",
    "    returns string of cuisine prediction and probability\n",
    "    '''\n",
    "    \n",
    "    cuisine = classifier.predict(X)[0] #get cuisine label prediction\n",
    "    cuis_prob = classifier.predict_proba(X)[0].max() #get %of nearest neighbors that share cuisine label\n",
    "    \n",
    "    out_string = f'Cuisine: {cuisine.capitalize()}\\nProbability: {round(cuis_prob,2)}\\n' #create return string\n",
    "    \n",
    "    return out_string #return string"
   ]
  },
  {
   "cell_type": "markdown",
   "metadata": {},
   "source": [
    "#### TEST"
   ]
  },
  {
   "cell_type": "code",
   "execution_count": 28,
   "metadata": {},
   "outputs": [
    {
     "name": "stdout",
     "output_type": "stream",
     "text": [
      "Cuisine: Italian\n",
      "Probability: 0.91\n",
      "\n"
     ]
    }
   ],
   "source": [
    "test_user_vec = vectorize(test_t_df, False) #vectorize the user input from before\n",
    "\n",
    "print(classify_ingredients(test_classifier, test_user_vec)) #check that the predicted cuisine is Italian"
   ]
  },
  {
   "cell_type": "markdown",
   "metadata": {},
   "source": [
    "### Get Closest Recipes"
   ]
  },
  {
   "cell_type": "code",
   "execution_count": 15,
   "metadata": {},
   "outputs": [],
   "source": [
    "def closest_recipes(classifier,X,df,count=7):\n",
    "    \n",
    "    '''\n",
    "    takes trained classifier, user input vector, original dataframe and count number as arguments\n",
    "    returns string of n=count closest recipes and their euclidean distances\n",
    "    '''\n",
    "    \n",
    "    recipes = classifier.kneighbors(X, count) #get tuple of closest recipes and their distances\n",
    "    out_string = f'Closest {count} recipies (Euclidean dist.): ' #initialize string to return\n",
    "    for distance, recipe in zip(recipes[0][0],recipes[1][0]): #zip recipe index to recipe distance\n",
    "        rid = df['id'][recipe] #find recipe id in original dataframe\n",
    "        out_string += f'{rid} ({round(distance,2)}), ' #concatenate string\n",
    "    \n",
    "    return out_string #return string"
   ]
  },
  {
   "cell_type": "markdown",
   "metadata": {},
   "source": [
    "#### TEST"
   ]
  },
  {
   "cell_type": "code",
   "execution_count": 16,
   "metadata": {},
   "outputs": [
    {
     "name": "stdout",
     "output_type": "stream",
     "text": [
      "Closest 7 recipies (Euclidean dist.): 41633 (0.77), 34842 (0.9), 32897 (0.91), 42475 (0.91), 28639 (0.93), 3050 (0.94), 24276 (0.94), \n"
     ]
    }
   ],
   "source": [
    "print(closest_recipes(test_classifier,test_user_vec,test_df)) #check that the correct number of recipes are printed"
   ]
  },
  {
   "cell_type": "markdown",
   "metadata": {},
   "source": [
    "### Main Function"
   ]
  },
  {
   "cell_type": "code",
   "execution_count": 22,
   "metadata": {},
   "outputs": [],
   "source": [
    "def main(user_input):\n",
    "    \n",
    "    df=read_in() #get yummly dataframe\n",
    "    df=de_tokenize(df) #add de-tokenized column to dataframe\n",
    "    t_df = parse_user_input(user_input,df) #get new dataframe with user data as final row\n",
    "    X,y = vectorize(df) #get training matrix and cuisine labels\n",
    "    classifier = train_classifier(X,y) #train classifier\n",
    "    t_df = parse_user_input(user_input,df) #get new dataframe with user data as final row\n",
    "    uX = vectorize(t_df, False) #get user input vector\n",
    "    cuisine = classify_ingredients(classifier,uX) #get predicted cuisine\n",
    "    cuisine += closest_recipes(classifier,uX,df) #concatenate nearest recipes\n",
    "    \n",
    "    \n",
    "    return cuisine #return string"
   ]
  },
  {
   "cell_type": "markdown",
   "metadata": {},
   "source": [
    "## Execution"
   ]
  },
  {
   "cell_type": "code",
   "execution_count": 27,
   "metadata": {},
   "outputs": [
    {
     "name": "stdout",
     "output_type": "stream",
     "text": [
      "Cuisine: Indian\n",
      "Probability: 0.91\n",
      "Closest 7 recipies (Euclidean dist.): 11272 (1.08), 46971 (1.1), 15491 (1.12), 33920 (1.15), 40306 (1.15), 43221 (1.16), 30678 (1.16), \n",
      "Wall time: 2.65 s\n"
     ]
    }
   ],
   "source": [
    "us_in = ['biryani masala', 'tortilla', 'cheese'] #get user input\n",
    "\n",
    "%time print(main(us_in)) #print "
   ]
  },
  {
   "cell_type": "code",
   "execution_count": null,
   "metadata": {},
   "outputs": [],
   "source": []
  }
 ],
 "metadata": {
  "kernelspec": {
   "display_name": "Python 3.6.8 64-bit",
   "language": "python",
   "name": "python36864bit881a291f7fc24b5187080a12abc1d62b"
  },
  "language_info": {
   "codemirror_mode": {
    "name": "ipython",
    "version": 3
   },
   "file_extension": ".py",
   "mimetype": "text/x-python",
   "name": "python",
   "nbconvert_exporter": "python",
   "pygments_lexer": "ipython3",
   "version": "3.6.8"
  }
 },
 "nbformat": 4,
 "nbformat_minor": 4
}
